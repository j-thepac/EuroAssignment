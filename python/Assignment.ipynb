{
 "cells": [
  {
   "cell_type": "code",
   "execution_count": 1,
   "metadata": {},
   "outputs": [],
   "source": [
    "from pyspark.sql import SparkSession\n",
    "from pyspark.sql.utils import *\n",
    "from pyspark.sql.functions import *\n",
    "from pyspark.sql.types import *\n",
    "import util\n",
    "from config import *\n",
    "import logging"
   ]
  },
  {
   "cell_type": "code",
   "execution_count": 7,
   "metadata": {},
   "outputs": [],
   "source": [
    "logging.basicConfig(level=logging.INFO)\n",
    "paths:Paths=Paths(\n",
    "    dataLake=\"../DataLake/\"\n",
    "    ,srcSearches=\"../searches/\"\n",
    "    ,srcVisitors=\"../visitors/\"\n",
    "    ,rawSearches=\"../DataLake/raw/searches/\"\n",
    "    ,rawVisitors=\"../DataLake/raw/visitors/\"\n",
    "    ,ezSearches=\"../DataLake/ez/searches/\"\n",
    "    ,ezVisitors=\"../DataLake/ez/visitors/\"\n",
    ")\n",
    "util.rawZoneSetup(paths)"
   ]
  },
  {
   "attachments": {},
   "cell_type": "markdown",
   "metadata": {},
   "source": [
    "TASK 1"
   ]
  },
  {
   "cell_type": "code",
   "execution_count": 8,
   "metadata": {},
   "outputs": [
    {
     "name": "stderr",
     "output_type": "stream",
     "text": [
      "INFO:root:getNewFiles(): path ../searches/, new Files Count 2\n",
      "INFO:root:getNewFiles(): path ../visitors/, new Files Count 2\n"
     ]
    }
   ],
   "source": [
    "newSearchesFiles=util.getNewFiles(paths.srcSearches,paths.rawSearches)\n",
    "newVisitorFiles=util.getNewFiles(paths.srcVisitors,paths.rawVisitors)\n",
    "if(len(newSearchesFiles)==0 and len(newVisitorFiles)==0):\n",
    "    logging.info(\"No New Files found from source\")"
   ]
  },
  {
   "cell_type": "code",
   "execution_count": null,
   "metadata": {},
   "outputs": [],
   "source": [
    "spark=SparkSession.builder.appName(\"test\").getOrCreate()"
   ]
  },
  {
   "cell_type": "code",
   "execution_count": 9,
   "metadata": {},
   "outputs": [
    {
     "name": "stderr",
     "output_type": "stream",
     "text": [
      "                                                                                \r"
     ]
    }
   ],
   "source": [
    "for files in newSearchesFiles:\n",
    "    ts=util.getTsFromFileName(files)\n",
    "    spark.read.json(f\"{paths.srcSearches}/{files}\").coalesce(1).write.options(header=\"True\",compression=\"snappy\").parquet(f\"{paths.rawSearches}/{ts}\")\n",
    "\n",
    "for files in newVisitorFiles:\n",
    "    ts=util.getTsFromFileName(files)\n",
    "    spark.read.json(f\"{paths.srcVisitors}/{files}\").coalesce(1).write.options(header=\"True\",compression=\"snappy\").parquet(f\"{paths.rawVisitors}/{ts}\")"
   ]
  },
  {
   "attachments": {},
   "cell_type": "markdown",
   "metadata": {},
   "source": [
    "TASK 2"
   ]
  },
  {
   "cell_type": "code",
   "execution_count": 10,
   "metadata": {},
   "outputs": [],
   "source": [
    "visitorStruct = StructType([\n",
    "    StructField(\"countPerday\", StringType()),\n",
    "    StructField(\"country\", StringType()),\n",
    "    StructField(\"first_hit_pagename\", StringType()),\n",
    "    StructField(\"hits_avg\", StringType()),\n",
    "    StructField(\"logged_in\", StringType()),\n",
    "    StructField(\"region\", StringType()),\n",
    "    StructField(\"registered\", StringType()),\n",
    "    StructField(\"visit_start\", StringType()),\n",
    "    StructField(\"visitor_id\", StringType()),\n",
    "    StructField(\"visits\", StringType())\n",
    "])\n",
    "\n",
    "def dateHandler(dateStr:str)->str:\n",
    "    year=dateStr.split(\"-\")[0]\n",
    "    if(len(year)==2):\n",
    "        dateStr=\"20\"+dateStr\n",
    "    return dateStr\n",
    "\n",
    "udateHandler=udf(dateHandler)"
   ]
  },
  {
   "cell_type": "code",
   "execution_count": 86,
   "metadata": {},
   "outputs": [],
   "source": [
    "def cleanVisitor(df:DataFrame)->DataFrame:\n",
    "    df=df\\\n",
    "    .withColumn(\"hits_avg\",df[\"hits_avg\"].cast(IntegerType()))\\\n",
    "    .withColumn(\"logged_in\",df[\"logged_in\"].cast(BooleanType()))\\\n",
    "    .withColumn(\"visit_start\", udateHandler(df.visit_start) )\\\n",
    "    .withColumn(\"visits\",df.visits.cast(IntegerType()))\n",
    "    \n",
    "    df=df\\\n",
    "    .withColumn(\"visit_start\", to_timestamp(df.visit_start, \"yyyy-MM-dd HH:mm:ss\"))\n",
    "\n",
    "    df=df\\\n",
    "    .withColumn(\"date\", date_format(df.visit_start,\"yyyy-MM-dd\").cast(DateType()))\\\n",
    "    .withColumn(\"visitor_id\",df.visitor_id.cast(LongType()))\n",
    "\n",
    "    df=df.na.fill(0,[\"visitor_id\"])\n",
    "    return df\n",
    "\n",
    "def cleanSearches(df:DataFrame)->DataFrame:\n",
    "    df= df\\\n",
    "    .withColumn(\"date_time\",to_timestamp(df.date_time, \"yyyy-MM-dd'T'HH:mm:ss.SSS'Z'\"))\\\n",
    "    .withColumn(\"visitor_id\", when(trim(df.visitor_id) == \"null\",lit(0) ).otherwise(df.visitor_id))\n",
    "\n",
    "    df=df.na.fill(\"0\",[\"visitor_id\"])\\\n",
    "    .withColumn(\"date\", date_format(df.date_time,\"yyyy-MM-dd\").cast(DateType()))\n",
    "\n",
    "    df=df.withColumn(\"visitor_id\",df.visitor_id.cast( LongType() ))\n",
    "    return df"
   ]
  },
  {
   "cell_type": "code",
   "execution_count": 101,
   "metadata": {},
   "outputs": [
    {
     "name": "stderr",
     "output_type": "stream",
     "text": [
      "INFO:root: rawVisitorPartitions = 2 , rawVisitorDF.count=29997 \n",
      "INFO:root: rawSearchesPartitions=2 , rawSearchesPartitions =26395\n"
     ]
    },
    {
     "data": {
      "text/plain": [
       "DataFrame[date_time: string, destination_out: string, destination_ret: string, flight_date_inbound: string, flight_date_outbound: string, origin_out: string, origin_ret: string, segments: bigint, visitor_id: double]"
      ]
     },
     "execution_count": 101,
     "metadata": {},
     "output_type": "execute_result"
    }
   ],
   "source": [
    "rawVisitorDF= spark.read.options(header=\"True\").options(inferSchema=\"True\").parquet(f\"{paths.rawVisitors}/*\").cache()\n",
    "logging.info(f\" rawVisitorPartitions = {rawVisitorDF.rdd.getNumPartitions()} , rawVisitorDF.count={rawVisitorDF.count()} \")\n",
    "cleanVisitorDF=rawVisitorDF.transform(cleanVisitor)\n",
    "rawVisitorDF.unpersist()\n",
    "\n",
    "rawSearchesDF= spark.read.options(header=\"True\").options(inferSchema=\"True\").parquet(f\"{paths.rawSearches}/*\").cache()\n",
    "logging.info(f\" rawSearchesPartitions={rawSearchesDF.rdd.getNumPartitions()} , rawSearchesPartitions ={rawSearchesDF.count()}\")\n",
    "cleanSearchesDF=rawSearchesDF.transform(cleanSearches)\n",
    "rawSearchesDF.unpersist()\n"
   ]
  },
  {
   "cell_type": "code",
   "execution_count": 132,
   "metadata": {},
   "outputs": [
    {
     "name": "stdout",
     "output_type": "stream",
     "text": [
      "23/09/07 18:08:53 WARN CacheManager: Asked to cache already cached data.\n",
      "+-----------+-------------------+----------+-------+------+\n",
      "| visitor_id|        visit_start|      date|country|region|\n",
      "+-----------+-------------------+----------+-------+------+\n",
      "| 1754585810|2021-03-19 03:46:54|2021-03-19|    deu|    nw|\n",
      "|22732060101|2021-03-19 06:38:19|2021-03-19|    fra|   idf|\n",
      "|15523596535|2021-03-19 07:02:48|2021-03-19|    deu|    sn|\n",
      "| 2538218538|2021-03-19 07:18:47|2021-03-19|    deu|    nw|\n",
      "|30266526872|2021-03-19 07:58:28|2021-03-19|    deu|    sl|\n",
      "| 4378517186|2021-03-19 08:00:39|2021-03-19|    deu|    he|\n",
      "| 1262411058|2021-03-19 08:02:09|2021-03-19|    deu|    nw|\n",
      "|14657567712|2021-03-19 08:02:11|2021-03-19|    deu|    by|\n",
      "|18738898137|2021-03-19 08:11:07|2021-03-19|    deu|    ni|\n",
      "| 5022402273|2021-03-19 08:14:44|2021-03-19|    deu|    by|\n",
      "| 5532489524|2021-03-19 08:31:07|2021-03-19|    esp|    pm|\n",
      "|10432905542|2021-03-19 08:48:08|2021-03-19|    deu|    nw|\n",
      "| 4304304726|2021-03-19 09:09:59|2021-03-19|    deu|    nw|\n",
      "| 3999226202|2021-03-19 09:27:10|2021-03-19|    deu|    bw|\n",
      "|37355129272|2021-03-19 09:31:39|2021-03-19|    fra|   idf|\n",
      "| 3312483057|2021-03-19 09:54:56|2021-03-19|    deu|    nw|\n",
      "|44699090471|2021-03-19 10:10:49|2021-03-19|    deu|    bw|\n",
      "|13728941933|2021-03-19 10:11:18|2021-03-19|    esp|    tf|\n",
      "|46344277629|2021-03-19 10:12:33|2021-03-19|    deu|    by|\n",
      "|21081707274|2021-03-19 10:13:11|2021-03-19|    deu|    sh|\n",
      "+-----------+-------------------+----------+-------+------+\n",
      "only showing top 20 rows\n",
      "\n"
     ]
    }
   ],
   "source": [
    "latestVisitorDF=cleanVisitorDF.groupBy(\"visitor_id\",\"date\").agg(max(\"visit_start\").alias(\"visit_start\")).cache()\n",
    "latestVisitorDFExtended=latestVisitorDF.join(cleanVisitorDF,[\"visitor_id\",\"visit_start\"]).select(\"visitor_id\",\"visit_start\",latestVisitorDF.date,\"country\",\"region\")"
   ]
  },
  {
   "cell_type": "code",
   "execution_count": 127,
   "metadata": {},
   "outputs": [
    {
     "data": {
      "text/plain": [
       "21847"
      ]
     },
     "execution_count": 127,
     "metadata": {},
     "output_type": "execute_result"
    }
   ],
   "source": [
    "latestVisitorDFExtended.join(cleanSearchesDF,[\"\"])"
   ]
  },
  {
   "cell_type": "code",
   "execution_count": 133,
   "metadata": {},
   "outputs": [
    {
     "name": "stdout",
     "output_type": "stream",
     "text": [
      "+-----------+-------+------------------+--------+---------+------+----------+-------------------+-----------+------+----------+\n",
      "|countPerday|country|first_hit_pagename|hits_avg|logged_in|region|registered|        visit_start| visitor_id|visits|      date|\n",
      "+-----------+-------+------------------+--------+---------+------+----------+-------------------+-----------+------+----------+\n",
      "|       9216|    deu|              null|      34|     true|    bw|     false|2021-05-01 11:08:52|25117075546|     1|2021-05-01|\n",
      "|       8935|    deu|              null|      16|     true|    nw|     false|2021-05-01 11:02:10|25117075546|     1|2021-05-01|\n",
      "|       8817|    deu|              null|       7|    false|    nw|     false|2021-05-01 10:59:09|25117075546|     1|2021-05-01|\n",
      "|       8753|    deu|              null|       3|    false|    ni|     false|2021-05-01 10:57:45|25117075546|     1|2021-05-01|\n",
      "|       8224|    deu|            Select|       9|    false|    bw|     false|2021-05-01 10:44:41|25117075546|     1|2021-05-01|\n",
      "|       7501|    deu|            Select|       2|    false|    by|     false|2021-05-01 10:27:25|25117075546|     1|2021-05-01|\n",
      "|       4998|    deu|              null|      24|    false|    nw|     false|2021-05-01 09:23:43|25117075546|     2|2021-05-01|\n",
      "|       4902|    deu|              null|      39|    false|    nw|     false|2021-05-01 09:21:35|25117075546|     2|2021-05-01|\n",
      "|       3141|    deu|              null|      34|     true|    hh|     false|2021-05-01 08:21:42|25117075546|     8|2021-05-01|\n",
      "|       3085|    deu|              null|       3|    false|    nw|     false|2021-05-01 08:19:27|25117075546|     1|2021-05-01|\n",
      "|       1912|    deu|              null|      13|    false|    sh|     false|2021-05-01 07:07:54|25117075546|     1|2021-05-01|\n",
      "|        882|    deu|              null|       9|     true|    nw|     false|2021-05-01 02:11:36|25117075546|     1|2021-05-01|\n",
      "|        820|    deu|          Myflight|      70|     true|    nw|     false|2021-05-01 01:54:09|25117075546|     1|2021-05-01|\n",
      "|       9171|    bgr|     United States|       1|    false|    24|     false|2021-03-19 12:18:45|25117075546|     1|2021-03-19|\n",
      "|       4575|    esp|              null|       7|    false|    pm|     false|2021-03-19 09:21:56|25117075546|     1|2021-03-19|\n",
      "|       2581|    deu|              null|      41|    false|    bw|     false|2021-03-19 07:52:33|25117075546|     1|2021-03-19|\n",
      "|       2498|    deu|              null|       9|    false|    nw|     false|2021-03-19 07:47:14|25117075546|     1|2021-03-19|\n",
      "|       2453|    deu|     Checkinselect|      16|    false|    nw|     false|2021-03-19 07:44:39|25117075546|     1|2021-03-19|\n",
      "|       1700|    esp|              null|       6|    false|     m|     false|2021-03-19 06:54:24|25117075546|     2|2021-03-19|\n",
      "|       9319|    deu|              null|       3|    false|    sn|     false|2021-01-27 18:20:59|25117075546|     1|2021-01-27|\n",
      "|       6803|    gbr|              null|       3|    false|   ben|     false|2021-01-27 14:55:16|25117075546|     1|2021-01-27|\n",
      "|       2711|    deu|              null|       2|    false|    nw|     false|2021-01-27 10:09:37|25117075546|     1|2021-01-27|\n",
      "|        296|    deu|              null|      56|    false|    hb|     false|2021-01-27 01:04:48|25117075546|     1|2021-01-27|\n",
      "+-----------+-------+------------------+--------+---------+------+----------+-------------------+-----------+------+----------+\n",
      "\n"
     ]
    }
   ],
   "source": [
    "cleanVisitorDF.filter(\"visitor_id=25117075546\").orderBy(desc(cleanVisitorDF.visit_start)).show(100)"
   ]
  }
 ],
 "metadata": {
  "kernelspec": {
   "display_name": "Python 3",
   "language": "python",
   "name": "python3"
  },
  "language_info": {
   "codemirror_mode": {
    "name": "ipython",
    "version": 3
   },
   "file_extension": ".py",
   "mimetype": "text/x-python",
   "name": "python",
   "nbconvert_exporter": "python",
   "pygments_lexer": "ipython3",
   "version": "3.9.6"
  },
  "orig_nbformat": 4
 },
 "nbformat": 4,
 "nbformat_minor": 2
}
